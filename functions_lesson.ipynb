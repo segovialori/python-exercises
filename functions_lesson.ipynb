{
 "cells": [
  {
   "cell_type": "markdown",
   "metadata": {},
   "source": [
    "# Python Functions\n",
    "\n",
    "- Context: what are functions? why are they helpful?\n"
   ]
  },
  {
   "cell_type": "markdown",
   "metadata": {},
   "source": [
    "- functions are resusable pieces of code\n",
    "- accepts inputs and produce outputs\n",
    "- abstraction\n",
    "- when we execute a function, we call that a function \"call\" (invoking the function)\n",
    "\n"
   ]
  },
  {
   "cell_type": "markdown",
   "metadata": {},
   "source": [
    "## Using Functions"
   ]
  },
  {
   "cell_type": "markdown",
   "metadata": {},
   "source": [
    "<div style=\"padding: 1em 3em; border: 1px solid black;\">\n",
    "    <div style=\"font-weight: bold; font-size: 1.2em; border-bottom: 1px dashed black; padding-bottom: .5em;\">\n",
    "        Vocab\n",
    "    </div>\n",
    "    <ul>\n",
    "        <li>Run/invoke/call</li>\n",
    "        <li>Argument</li>\n",
    "        <li>Return Value</li>\n",
    "    </ul>\n",
    "</div>"
   ]
  },
  {
   "cell_type": "markdown",
   "metadata": {},
   "source": [
    "- when we invoke a function we are calling arguments that are being passed to the function\n",
    "- function calls bring a return value\n",
    "- "
   ]
  },
  {
   "cell_type": "markdown",
   "metadata": {},
   "source": [
    "We've already used built-in functions"
   ]
  },
  {
   "cell_type": "markdown",
   "metadata": {},
   "source": [
    "<div style=\"background-color: rgba(0, 100, 200, .1); padding: 1em 3em; border-radius: 5px; border: 1px solid black\">\n",
    "    <div style=\"font-weight: bold; font-size: 1.2em; border-bottom: 1px dashed black; padding-bottom: .5em;\">\n",
    "        Mini Exercise -- Using Functions\n",
    "    </div>\n",
    "    <ol>\n",
    "        <li>\n",
    "            <p>Take a look at this code snippet:</p>\n",
    "            <pre><code>max([1, 2, 3])</code></pre>\n",
    "            <p>What is the function name?</p>\n",
    "            <p>Where is the function invocation?</p>\n",
    "            <p>What is the return value?</p>\n",
    "        </li>\n",
    "        <li>\n",
    "            <p>Take a look at this code snippet:</p>\n",
    "            <pre><code>type(max([1, 2, 3]))</code></pre>\n",
    "            <p>What will the output be? Why?</p>\n",
    "        </li>\n",
    "        <li>\n",
    "            <p>Take a look at this code snippet:</p>\n",
    "            <pre><code>type(max)</code></pre>\n",
    "            <p>What will the output be? Why?</p>\n",
    "        </li>\n",
    "        <li>\n",
    "            <p>What is the difference between the two code blocks below?</p>\n",
    "            <pre><code>print</code></pre>\n",
    "            <pre><code>print()</code></pre>\n",
    "        </li>\n",
    "        <li>What other built in functions do you know?</li>\n",
    "    </ol>\n",
    "</div>"
   ]
  },
  {
   "cell_type": "code",
   "execution_count": 1,
   "metadata": {},
   "outputs": [
    {
     "data": {
      "text/plain": [
       "3"
      ]
     },
     "execution_count": 1,
     "metadata": {},
     "output_type": "execute_result"
    }
   ],
   "source": [
    "max([1,2,3])"
   ]
  },
  {
   "cell_type": "markdown",
   "metadata": {},
   "source": [
    "- the function name is max\n",
    "- the function invocation is where the open parentheses are :name, parenthesis, and anything inside it\n",
    "- the return value is 3"
   ]
  },
  {
   "cell_type": "code",
   "execution_count": 2,
   "metadata": {},
   "outputs": [
    {
     "data": {
      "text/plain": [
       "int"
      ]
     },
     "execution_count": 2,
     "metadata": {},
     "output_type": "execute_result"
    }
   ],
   "source": [
    "type(max([1, 2, 3]))"
   ]
  },
  {
   "cell_type": "markdown",
   "metadata": {},
   "source": [
    "- The output will be the type of what is returned in the max function because it is just asking for the type."
   ]
  },
  {
   "cell_type": "code",
   "execution_count": 3,
   "metadata": {},
   "outputs": [
    {
     "data": {
      "text/plain": [
       "builtin_function_or_method"
      ]
     },
     "execution_count": 3,
     "metadata": {},
     "output_type": "execute_result"
    }
   ],
   "source": [
    "type(max)"
   ]
  },
  {
   "cell_type": "markdown",
   "metadata": {},
   "source": [
    "-the output will be function bc max is a function"
   ]
  },
  {
   "cell_type": "markdown",
   "metadata": {},
   "source": [
    "#### What is the difference between the two code blocks below?\n",
    "- print\n",
    "- print()\n",
    "- The differnce is that one is a function and the other is not.  One is calling the function and the other is not.  "
   ]
  },
  {
   "cell_type": "markdown",
   "metadata": {},
   "source": [
    "#### What other built in functions do you know?\n",
    "- min(), avg(), sum(), def()"
   ]
  },
  {
   "cell_type": "markdown",
   "metadata": {},
   "source": [
    "## Function Signature\n",
    "- the type and quantity of the function arguments plus the function's return type.\n",
    "- what does it take and and what does it produce out\n",
    "- e.g:  max(l: list[int]) -> int"
   ]
  },
  {
   "cell_type": "code",
   "execution_count": null,
   "metadata": {},
   "outputs": [],
   "source": [
    "#### What are the signatures of the print function and the range function\n"
   ]
  },
  {
   "cell_type": "markdown",
   "metadata": {},
   "source": [
    "- print():  takes in a string, int, float\n",
    "- print(x):   its return value is none\n",
    "- range(start: int, stop: int[, step: int]): takes in start: int, stop: int -> list[int]\n",
    "- range:  takes in two arguments, both integers, and returns list (range) of integers.  Also has an optional 3rd agrument\n"
   ]
  },
  {
   "cell_type": "markdown",
   "metadata": {},
   "source": [
    "## Defining Functions"
   ]
  },
  {
   "cell_type": "markdown",
   "metadata": {},
   "source": [
    "<div style=\"padding: 1em 3em; border: 1px solid black;\">\n",
    "    <div style=\"font-weight: bold; font-size: 1.2em; border-bottom: 1px dashed black; padding-bottom: .5em;\">\n",
    "        Vocab\n",
    "    </div>\n",
    "    <ul>\n",
    "        <li>Function Definition</li>\n",
    "        <li>Function Name</li>\n",
    "        <li>Argument</li>\n",
    "        <li>Parameter</li>\n",
    "        <li>Function Body</li>\n",
    "    </ul>\n",
    "</div>"
   ]
  },
  {
   "cell_type": "code",
   "execution_count": 4,
   "metadata": {},
   "outputs": [
    {
     "data": {
      "text/plain": [
       "3"
      ]
     },
     "execution_count": 4,
     "metadata": {},
     "output_type": "execute_result"
    }
   ],
   "source": [
    "def increment(n):\n",
    "    return n + 1\n",
    "# 2 is the argument of the invocation of the increment function\n",
    "increment(2)"
   ]
  },
  {
   "cell_type": "markdown",
   "metadata": {},
   "source": [
    "- we can name our functions whatever we want\n",
    "- try to name functions as verbs\n",
    "- n is the parameter in the function, the place holder/argument of the function"
   ]
  },
  {
   "cell_type": "markdown",
   "metadata": {},
   "source": [
    "increment(n:int) -> int"
   ]
  },
  {
   "cell_type": "markdown",
   "metadata": {},
   "source": [
    "<div style=\"background-color: rgba(0, 100, 200, .1); padding: 1em 3em; border-radius: 5px; border: 1px solid black\">\n",
    "    <div style=\"font-weight: bold; font-size: 1.2em; border-bottom: 1px dashed black; padding-bottom: .5em;\">\n",
    "        Mini Exercise -- Defining Functions\n",
    "    </div>\n",
    "    <ol>\n",
    "        <li>What is the difference between calling and defining a function?</li>\n",
    "        <li>\n",
    "            <p>What is the difference between the two code blocks below?</p>\n",
    "            <pre><code>def increment(n):\n",
    "    return n + 1</code></pre>\n",
    "            <pre><code>def increment(n):\n",
    "    print(n + 1)</code></pre>\n",
    "        </li>\n",
    "        <li>Create a function named <code>nonzero</code>. It should accept a number and return true if the number is anythong other than zero, false otherwise.</li>\n",
    "        <li>Use your <code>nonzero</code> function in combination with the built-in <code>input</code> function and an <code>if</code> statement to prompt the user for a number and print a message displaying whether or not the number is zero.</li>\n",
    "        <li>Transfer the work you have done into a function named <code>explain_nonzero</code>. Calling this function whould prompt the user and display the message as before.</li>\n",
    "    </ol>\n",
    "</div>"
   ]
  },
  {
   "cell_type": "code",
   "execution_count": null,
   "metadata": {},
   "outputs": [],
   "source": [
    "#1.  What is the difference between calling and defining a function?\n",
    "- return defines the function\n",
    "- the other one calls the function"
   ]
  },
  {
   "cell_type": "markdown",
   "metadata": {},
   "source": [
    "#2.  What is the difference between the two code blocks below?\n",
    "- the return value is passing the argument, the print value is not\n",
    "- producing return value and not producing the return value"
   ]
  },
  {
   "cell_type": "code",
   "execution_count": 14,
   "metadata": {},
   "outputs": [
    {
     "data": {
      "text/plain": [
       "True"
      ]
     },
     "execution_count": 14,
     "metadata": {},
     "output_type": "execute_result"
    }
   ],
   "source": [
    "#3.  Create a function named nonzero. \n",
    "#It should accept a number and return true if the number is anythong other \n",
    "#than zero, false otherwise.\n",
    "def nonzero(n):\n",
    "    if n > 0:\n",
    "        return True\n",
    "    else:\n",
    "        return False\n",
    "nonzero(-2)\n",
    "\n",
    "## Zach way\n",
    "def nonzero(x):\n",
    "    return x != 0\n",
    "nonzero(22)"
   ]
  },
  {
   "cell_type": "markdown",
   "metadata": {},
   "source": [
    "nonzero(x:int)->bool"
   ]
  },
  {
   "cell_type": "code",
   "execution_count": 16,
   "metadata": {},
   "outputs": [
    {
     "name": "stdout",
     "output_type": "stream",
     "text": [
      "Input a number: 9\n",
      "Please enter a number: 9\n",
      "Number is greater than zero\n",
      "That is zero!\n"
     ]
    }
   ],
   "source": [
    "#4.  Use your nonzero function in combination with the built-in \n",
    "#input function and an if statement to prompt the user for a number \n",
    "#and print a message displaying whether or not the number is zero.\n",
    "def nonzero(user_input = input(\"Input a number: \")):\n",
    "    if user_input == 0:\n",
    "         print(\"Number is zero\")\n",
    "    elif user_input > 0:\n",
    "         print(\"Number is greater than zero\")\n",
    "    else:\n",
    "         print(\"Number is less than zero\")\n",
    "#zach way\n",
    "\n",
    "user_input = int(input(\"Please enter a number: \"))\n",
    "\n",
    "if nonzero(user_input):\n",
    "    print(\"That is not zero\")\n",
    "else:\n",
    "    print(\"That is zero!\")\n",
    "    \n",
    "    "
   ]
  },
  {
   "cell_type": "code",
   "execution_count": 19,
   "metadata": {},
   "outputs": [
    {
     "name": "stdout",
     "output_type": "stream",
     "text": [
      "Number is greater than zero\n",
      "That is zero!\n"
     ]
    }
   ],
   "source": [
    "#5.  Transfer the work you have done into a function named explain_nonzero. \n",
    "#Calling this function would prompt the user and display the message as before.\n",
    "\n",
    "def explain_nonzero():\n",
    "    if nonzero(user_input):\n",
    "        print(\"That is not zero\")\n",
    "    else:\n",
    "        print(\"That is zero!\")\n",
    "explain_nonzero()"
   ]
  },
  {
   "cell_type": "markdown",
   "metadata": {},
   "source": [
    "- what happens if we omit the return keyword?\n",
    "-- the function does not return a value\n",
    "-- the function call expression evaluates to None\n",
    "- when is this useful?\n",
    "-- for side effects.  \n",
    "-- square_and_double(x): produces a value\n",
    "-- insert_book_into_database(book): has a side effect\n",
    "-- fill_nulls_with_zero(column):  produces a value -- a new column with nulls filled in\n"
   ]
  },
  {
   "cell_type": "markdown",
   "metadata": {},
   "source": [
    "### Default Parameter Values and Keyword Arguments"
   ]
  },
  {
   "cell_type": "code",
   "execution_count": null,
   "metadata": {},
   "outputs": [],
   "source": [
    "def sayhello(name=\"Easley\"):\n",
    "    return f\"Hello, {name}!\"\n",
    "\n",
    "#because he defined a default value, () without anything in it will use the default value\n",
    "#the name parameter has a default value of \"easley\"\n",
    "#passing an agrument for name is optional"
   ]
  },
  {
   "cell_type": "code",
   "execution_count": 22,
   "metadata": {},
   "outputs": [
    {
     "data": {
      "text/plain": [
       "'Good Afternoon, Class!'"
      ]
     },
     "execution_count": 22,
     "metadata": {},
     "output_type": "execute_result"
    }
   ],
   "source": [
    "def sayhello(name=\"Easley\", greeting = \"Hello\"):\n",
    "    return f\"{greeting}, {name}!\"\n",
    "sayhello(\"Class\", \"Good Afternoon\")"
   ]
  },
  {
   "cell_type": "markdown",
   "metadata": {},
   "source": [
    "- postional arguments: parameter defined by position, or order\n",
    "- keyword arguments: parameter defined by keyword"
   ]
  },
  {
   "cell_type": "markdown",
   "metadata": {},
   "source": [
    "## Function Scope\n",
    "\n",
    "- defining variables inside/outside of functions\n",
    "- defines where a variable can be referenced"
   ]
  },
  {
   "cell_type": "markdown",
   "metadata": {},
   "source": [
    "<div style=\"padding: 1em 3em; border: 1px solid black;\">\n",
    "    <div style=\"font-weight: bold; font-size: 1.2em; border-bottom: 1px dashed black; padding-bottom: .5em;\">\n",
    "        Vocab\n",
    "    </div>\n",
    "    <ul>\n",
    "        <li>Scope</li>\n",
    "        <li>Global</li>\n",
    "        <li>Local</li>\n",
    "    </ul>\n",
    "</div>"
   ]
  },
  {
   "cell_type": "code",
   "execution_count": 23,
   "metadata": {},
   "outputs": [
    {
     "ename": "NameError",
     "evalue": "name 'x' is not defined",
     "output_type": "error",
     "traceback": [
      "\u001b[0;31m---------------------------------------------------------------------------\u001b[0m",
      "\u001b[0;31mNameError\u001b[0m                                 Traceback (most recent call last)",
      "\u001b[0;32m<ipython-input-23-f306ea3cb6a2>\u001b[0m in \u001b[0;36m<module>\u001b[0;34m\u001b[0m\n\u001b[1;32m      4\u001b[0m \u001b[0;34m\u001b[0m\u001b[0m\n\u001b[1;32m      5\u001b[0m \u001b[0mf\u001b[0m\u001b[0;34m(\u001b[0m\u001b[0;34m)\u001b[0m\u001b[0;34m\u001b[0m\u001b[0;34m\u001b[0m\u001b[0m\n\u001b[0;32m----> 6\u001b[0;31m \u001b[0mprint\u001b[0m\u001b[0;34m(\u001b[0m\u001b[0mx\u001b[0m\u001b[0;34m)\u001b[0m\u001b[0;34m\u001b[0m\u001b[0;34m\u001b[0m\u001b[0m\n\u001b[0m\u001b[1;32m      7\u001b[0m \u001b[0;34m\u001b[0m\u001b[0m\n\u001b[1;32m      8\u001b[0m \u001b[0;31m#The variable x has local scope since it is defined inside the function\u001b[0m\u001b[0;34m\u001b[0m\u001b[0;34m\u001b[0m\u001b[0;34m\u001b[0m\u001b[0m\n",
      "\u001b[0;31mNameError\u001b[0m: name 'x' is not defined"
     ]
    }
   ],
   "source": [
    "# NB. function names and variables are very generic here because the concept is very generic\n",
    "def f():\n",
    "    x = 123\n",
    "\n",
    "f()    \n",
    "print(x)\n",
    "\n",
    "#The variable x has local scope since it is defined inside the function\n",
    "#That definition is local, that variable x just exists inside the function\n",
    "#If we define x outside of our function, then the variable is globally scoper\n",
    "#Meaning that it is available globally"
   ]
  },
  {
   "cell_type": "code",
   "execution_count": 24,
   "metadata": {},
   "outputs": [
    {
     "name": "stdout",
     "output_type": "stream",
     "text": [
      "123\n"
     ]
    }
   ],
   "source": [
    "x = 123\n",
    "\n",
    "def f():\n",
    "    print(x)\n",
    "\n",
    "f()    "
   ]
  },
  {
   "cell_type": "code",
   "execution_count": 25,
   "metadata": {},
   "outputs": [
    {
     "name": "stdout",
     "output_type": "stream",
     "text": [
      "13\n"
     ]
    }
   ],
   "source": [
    "x = 123 #global\n",
    "\n",
    "def f(x):\n",
    "    return x + 1 #local\n",
    "\n",
    "print(f(12))"
   ]
  },
  {
   "cell_type": "markdown",
   "metadata": {},
   "source": [
    "<div style=\"background-color: rgba(0, 100, 200, .1); padding: 1em 3em; border-radius: 5px; border: 1px solid black\">\n",
    "    <div style=\"font-weight: bold; font-size: 1.2em; border-bottom: 1px dashed black; padding-bottom: .5em;\">\n",
    "        Mini Exercise -- Function Scope\n",
    "    </div>\n",
    "    <ol>\n",
    "        <li>What is the difference between local and global scope? Which is preferred?</li>\n",
    "        <li>Take a look at the cell below this one. Before running it, think about what you would expect to happen. Explain step by step how the python code is executing.</li>\n",
    "    </ol>\n",
    "</div>"
   ]
  },
  {
   "cell_type": "markdown",
   "metadata": {},
   "source": [
    "- local scope is within the function and only exists inside the function and global scope is outside the function and exists outside the function\n",
    "- local scope is preferred\n",
    "- the function is called changeit and will take in a number and add one to it\n",
    "- since it is inside the function it will only exist when the function is called\n",
    "- x = 42 is a variable that is being created globally\n",
    "- print(x) will print 42\n",
    "- changeit(x) will not produce anyhting since a number has not been passed.  x is the parameter.  not changing the global variable x.\n",
    "- print x will print 42"
   ]
  },
  {
   "cell_type": "code",
   "execution_count": 26,
   "metadata": {},
   "outputs": [
    {
     "name": "stdout",
     "output_type": "stream",
     "text": [
      "42\n",
      "42\n"
     ]
    }
   ],
   "source": [
    "def changeit(x):\n",
    "    x = x + 1\n",
    "\n",
    "x = 42\n",
    "print(x)\n",
    "changeit(x)\n",
    "print(x)"
   ]
  },
  {
   "cell_type": "markdown",
   "metadata": {},
   "source": [
    "### Function Scope Example\n",
    "\n",
    "```python\n",
    "def fill_nulls(df):\n",
    "    return df.fillna(0)\n",
    "    \n",
    "def drop_outliers(df):\n",
    "    outlier_cutoff = 3\n",
    "    return df[df.zscore().abs() < 3]\n",
    "    \n",
    "def prep_dataframe(df):\n",
    "    df = fill_nulls(df)\n",
    "    df = drop_outliers(df)\n",
    "    return \n",
    "```"
   ]
  },
  {
   "cell_type": "markdown",
   "metadata": {},
   "source": [
    "[Data Prep example](https://github.com/CodeupClassroom/darden-nlp-exercises/blob/main/nlp_prepare.py). The specifics here aren't important right now, just pay attention to the overall shape of functions and how local scope is used."
   ]
  },
  {
   "cell_type": "markdown",
   "metadata": {},
   "source": [
    "## Lambda Functions\n",
    "\n",
    "- A function as an expression\n",
    "- used for \"throw away\", or one-off, functions"
   ]
  },
  {
   "cell_type": "code",
   "execution_count": null,
   "metadata": {},
   "outputs": [],
   "source": [
    "def increment(n):\n",
    "    return n + 1\n",
    "\n",
    "# same as\n",
    "\n",
    "increment = lambda n: n + 1"
   ]
  },
  {
   "cell_type": "markdown",
   "metadata": {},
   "source": [
    "**Use case**: sorting (min, max too)\n",
    "\n",
    "Python doesn't know how to compare dictionaries, but it does know how to compare strings or numbers"
   ]
  },
  {
   "cell_type": "code",
   "execution_count": 30,
   "metadata": {},
   "outputs": [],
   "source": [
    "students = [\n",
    "    {\"name\": \"Ada Lovelace\", \"grade\": 87},\n",
    "    {\"name\": \"Thomas Bayes\", \"grade\": 89},\n",
    "    {\"name\": \"Christine Darden\", \"grade\": 99},\n",
    "    {\"name\": \"Annie Easley\", \"grade\": 94},\n",
    "    {\"name\": \"Marie Curie\", \"grade\": 97},\n",
    "]"
   ]
  },
  {
   "cell_type": "markdown",
   "metadata": {},
   "source": [
    "- students is a list that holds dictionaries\n"
   ]
  },
  {
   "cell_type": "code",
   "execution_count": 27,
   "metadata": {},
   "outputs": [
    {
     "data": {
      "text/plain": [
       "[-4, 3, 9, 21, 50]"
      ]
     },
     "execution_count": 27,
     "metadata": {},
     "output_type": "execute_result"
    }
   ],
   "source": [
    "sorted([-4,21,3,50,9])"
   ]
  },
  {
   "cell_type": "code",
   "execution_count": 28,
   "metadata": {},
   "outputs": [
    {
     "ename": "NameError",
     "evalue": "name 'students' is not defined",
     "output_type": "error",
     "traceback": [
      "\u001b[0;31m---------------------------------------------------------------------------\u001b[0m",
      "\u001b[0;31mNameError\u001b[0m                                 Traceback (most recent call last)",
      "\u001b[0;32m<ipython-input-28-7d3dd5d8afa9>\u001b[0m in \u001b[0;36m<module>\u001b[0;34m\u001b[0m\n\u001b[0;32m----> 1\u001b[0;31m \u001b[0msorted\u001b[0m\u001b[0;34m(\u001b[0m\u001b[0mstudents\u001b[0m\u001b[0;34m)\u001b[0m\u001b[0;34m\u001b[0m\u001b[0;34m\u001b[0m\u001b[0m\n\u001b[0m",
      "\u001b[0;31mNameError\u001b[0m: name 'students' is not defined"
     ]
    }
   ],
   "source": [
    "sorted(students)"
   ]
  },
  {
   "cell_type": "markdown",
   "metadata": {},
   "source": [
    "- python doesnt have a concept of one dictionary being less than another dictionary\n",
    "- so if you want to sort students by name, by specifing the key word argument key and its value is going to map one element to a value that can be compared\n",
    "- order them low to high by taking each element and looking at the name key and sorting by the value associated in that name key"
   ]
  },
  {
   "cell_type": "code",
   "execution_count": 31,
   "metadata": {},
   "outputs": [
    {
     "data": {
      "text/plain": [
       "[{'name': 'Ada Lovelace', 'grade': 87},\n",
       " {'name': 'Annie Easley', 'grade': 94},\n",
       " {'name': 'Christine Darden', 'grade': 99},\n",
       " {'name': 'Marie Curie', 'grade': 97},\n",
       " {'name': 'Thomas Bayes', 'grade': 89}]"
      ]
     },
     "execution_count": 31,
     "metadata": {},
     "output_type": "execute_result"
    }
   ],
   "source": [
    "# sort by name\n",
    "sorted(students, key=lambda s: s[\"name\"])"
   ]
  },
  {
   "cell_type": "code",
   "execution_count": null,
   "metadata": {},
   "outputs": [],
   "source": [
    "# sort by grade\n",
    "sorted(students, key=lambda s: s[\"grade\"])"
   ]
  },
  {
   "cell_type": "markdown",
   "metadata": {},
   "source": [
    "<div style=\"background-color: rgba(0, 100, 200, .1); padding: 1em 3em; border-radius: 5px; border: 1px solid black\">\n",
    "    <div style=\"font-weight: bold; font-size: 1.2em; border-bottom: 1px dashed black; padding-bottom: .5em;\">\n",
    "        Mini Exercise -- Lambda Functions &amp; Sorting\n",
    "    </div>\n",
    "    <p>Write the code necessary to sort the list of student dictionaries by student <em>last</em> name.</p>\n",
    "    <p>Hints:</p>\n",
    "    <ul>\n",
    "        <li>You will need to write a function that takes in a student dictionary and returns just the last name.</li>\n",
    "        <li>You can use the <code>.split</code> string method to seperate the first name and the last name.</li>\n",
    "    </ul>\n",
    "</div>"
   ]
  },
  {
   "cell_type": "code",
   "execution_count": 45,
   "metadata": {},
   "outputs": [],
   "source": [
    "students = [\n",
    "    {\"name\": \"Ada Lovelace\", \"grade\": 87},\n",
    "    {\"name\": \"Thomas Bayes\", \"grade\": 89},\n",
    "    {\"name\": \"Christine Darden\", \"grade\": 99},\n",
    "    {\"name\": \"Annie Easley\", \"grade\": 94},\n",
    "    {\"name\": \"Marie Curie\", \"grade\": 97},\n",
    "]"
   ]
  },
  {
   "cell_type": "code",
   "execution_count": 46,
   "metadata": {},
   "outputs": [
    {
     "ename": "TypeError",
     "evalue": "list indices must be integers or slices, not str",
     "output_type": "error",
     "traceback": [
      "\u001b[0;31m---------------------------------------------------------------------------\u001b[0m",
      "\u001b[0;31mTypeError\u001b[0m                                 Traceback (most recent call last)",
      "\u001b[0;32m<ipython-input-46-ae454297f350>\u001b[0m in \u001b[0;36m<module>\u001b[0;34m\u001b[0m\n\u001b[0;32m----> 1\u001b[0;31m \u001b[0mstudents\u001b[0m\u001b[0;34m[\u001b[0m\u001b[0;34m'name'\u001b[0m\u001b[0;34m]\u001b[0m\u001b[0;34m\u001b[0m\u001b[0;34m\u001b[0m\u001b[0m\n\u001b[0m",
      "\u001b[0;31mTypeError\u001b[0m: list indices must be integers or slices, not str"
     ]
    }
   ],
   "source": []
  },
  {
   "cell_type": "code",
   "execution_count": 47,
   "metadata": {},
   "outputs": [
    {
     "data": {
      "text/plain": [
       "[{'name': 'Thomas Bayes', 'grade': 89},\n",
       " {'name': 'Marie Curie', 'grade': 97},\n",
       " {'name': 'Christine Darden', 'grade': 99},\n",
       " {'name': 'Annie Easley', 'grade': 94},\n",
       " {'name': 'Ada Lovelace', 'grade': 87}]"
      ]
     },
     "execution_count": 47,
     "metadata": {},
     "output_type": "execute_result"
    }
   ],
   "source": [
    "#Write the code necessary to sort the list of student dictionaries by student last name.\n",
    "\n",
    "sorted(students, key=lambda s: s[\"name\"].split(\" \")[-1])"
   ]
  },
  {
   "cell_type": "code",
   "execution_count": null,
   "metadata": {},
   "outputs": [],
   "source": []
  }
 ],
 "metadata": {
  "kernelspec": {
   "display_name": "Python 3",
   "language": "python",
   "name": "python3"
  },
  "language_info": {
   "codemirror_mode": {
    "name": "ipython",
    "version": 3
   },
   "file_extension": ".py",
   "mimetype": "text/x-python",
   "name": "python",
   "nbconvert_exporter": "python",
   "pygments_lexer": "ipython3",
   "version": "3.8.5"
  }
 },
 "nbformat": 4,
 "nbformat_minor": 4
}
